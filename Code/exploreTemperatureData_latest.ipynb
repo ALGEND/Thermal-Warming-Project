{
 "cells": [
  {
   "cell_type": "markdown",
   "metadata": {},
   "source": [
    "## Analysis of Temperature data - 1975 to 2017\n",
    "\n",
    "### Our Assumption : Are Average Global Temperatures are rising since 1975?\n",
    "\n",
    "#### Null Hypothesis - Temperatures are not rising since 1975\n",
    "\n",
    "The key question we are trying to answer is \n",
    "- is Temperature rising sine 1975? \n",
    "- What is its replationship with time? \n",
    "- if so by how much has it risen\n",
    "- is statistically supported (p-value)\n",
    "\n",
    "### Analysis Process & Steps\n",
    "\n",
    "#### Data file used and Preparation before Analysis\n",
    "- We start with clean temperature .csv file ( ex., NaN_Replaced_Temps.csv)\n",
    "- Data loaded onto dataframe using pandas\n",
    "- Reconfirm that no missing values are present. If present, fill it with row-wise mean before analysis\n",
    "- Reshape the data from columnwise monthly values to row-wise monthly values\n",
    "- Add a Date column to assist in time-series plotting\n",
    "\n",
    "#### Data Grouping\n",
    "- The prepared data from step above is grouped into two groups. \n",
    "    - Group 1: All country level monthly values are summarized at Global level - Yearly and Monthly\n",
    "    - Group 2: All data is rolled up and summarised at Global level - Yearly\n",
    "    \n",
    "#### Exploratory analysis\n",
    "- Create inital plots to study \n",
    "    - the trend of temperature against time, \n",
    "    - spread of temperature across the mean\n",
    "    \n",
    "#### Statistical Analysis of Trend\n",
    "- Regression line fit\n",
    "    - Calculate the moving average mean (12 month window) of temperature from 1975 to 2017\n",
    "    - Use linear regression (using scipy.stats.lineregress()) and \n",
    "        - Calculate Slope, Intercept, r-Value, p-Value and Standard error\n",
    "    - Plot time-series regression plot of the Temperature averages against time\n",
    "\n",
    "- ANNOVA to compare 4 independent year groups\n",
    "    - Group years into 4 bins (1975 - 1985, 1986 - 1996, 1997 - 2007, 2008 - 2017)\n",
    "    - Perform an ANNOVA on the 4 year groups to conclude that means of the group are significantly different and increasing\n",
    "\n"
   ]
  },
  {
   "cell_type": "code",
   "execution_count": 1,
   "metadata": {},
   "outputs": [],
   "source": [
    "# Interactive mapping\n",
    "%matplotlib inline"
   ]
  },
  {
   "cell_type": "markdown",
   "metadata": {},
   "source": [
    "### Key packages required\n",
    "This  analysis depends on usage of \n",
    "- data manipulation - pandas and numpy\n",
    "- plotting using matplotlib, seaborn\n",
    "- statistical analysis using scipy.stats "
   ]
  },
  {
   "cell_type": "code",
   "execution_count": 2,
   "metadata": {},
   "outputs": [],
   "source": [
    "# Import all required dependencies\n",
    "import csv\n",
    "import pandas as pd\n",
    "import numpy as np\n",
    "import os\n",
    "from datetime import datetime\n",
    "import calendar\n",
    "\n",
    "import matplotlib.pyplot as plt\n",
    "import matplotlib as mpl\n",
    "\n",
    "import seaborn as sns\n",
    "\n",
    "from scipy.stats import linregress\n",
    "\n",
    "import scipy.stats as stats\n",
    "\n",
    "#from spread import variance, standard_deviation, zipped_z_scores\n",
    "\n",
    "import warnings\n",
    "warnings.filterwarnings('ignore')\n",
    "\n",
    "# Change the print display\n",
    "from IPython.display import Markdown, display\n",
    "def printmd(string):\n",
    "    display(Markdown(string))\n",
    "    "
   ]
  },
  {
   "cell_type": "markdown",
   "metadata": {},
   "source": [
    "### Global constants and initialization throughout the notebook"
   ]
  },
  {
   "cell_type": "code",
   "execution_count": 48,
   "metadata": {},
   "outputs": [],
   "source": [
    "# Global declarations\n",
    "data_path = \"..\\data\"\n",
    "\n",
    "#dataFile = \"AvgTempCYear_1.csv\"\n",
    "dataFile = \"NaN_Replaced_Temps.csv\"\n",
    "\n",
    "#Output folders\n",
    "result_dir = \"..\\output\"\n",
    "image_dir = \"..\\images\"\n",
    "\n",
    "# Plot Style to use\n",
    "mpl.style.use('seaborn')\n",
    "sns.set_style(\"darkgrid\")\n",
    "sns.set(font_scale=1.2)\n",
    "color_spread = ['#0000FF','#00CCFF','#CCFFFF','#FFCC00','#FF9900','#FF6600']"
   ]
  },
  {
   "cell_type": "markdown",
   "metadata": {},
   "source": [
    "## Preparing data for analysis\n",
    "\n",
    "### Step 1: Load data to dataframe\n",
    "\n",
    "- Cleaned temperature data is loaded from \\data folder\n",
    "- data is loaded onto temperature dataframe using read_csv() method.\n",
    "- sample output printed to check if the load was successful"
   ]
  },
  {
   "cell_type": "code",
   "execution_count": 122,
   "metadata": {},
   "outputs": [
    {
     "data": {
      "text/html": [
       "<div>\n",
       "<style scoped>\n",
       "    .dataframe tbody tr th:only-of-type {\n",
       "        vertical-align: middle;\n",
       "    }\n",
       "\n",
       "    .dataframe tbody tr th {\n",
       "        vertical-align: top;\n",
       "    }\n",
       "\n",
       "    .dataframe thead th {\n",
       "        text-align: right;\n",
       "    }\n",
       "</style>\n",
       "<table border=\"1\" class=\"dataframe\">\n",
       "  <thead>\n",
       "    <tr style=\"text-align: right;\">\n",
       "      <th></th>\n",
       "      <th>Country</th>\n",
       "      <th>Year</th>\n",
       "      <th>Jan</th>\n",
       "      <th>Feb</th>\n",
       "      <th>Mar</th>\n",
       "      <th>Apr</th>\n",
       "      <th>May</th>\n",
       "      <th>Jun</th>\n",
       "      <th>Jul</th>\n",
       "      <th>Aug</th>\n",
       "      <th>Sep</th>\n",
       "      <th>Oct</th>\n",
       "      <th>Nov</th>\n",
       "      <th>Dec</th>\n",
       "    </tr>\n",
       "  </thead>\n",
       "  <tbody>\n",
       "    <tr>\n",
       "      <th>0</th>\n",
       "      <td>ALGERIA</td>\n",
       "      <td>1975</td>\n",
       "      <td>8.9</td>\n",
       "      <td>10.3</td>\n",
       "      <td>12.1</td>\n",
       "      <td>16.4</td>\n",
       "      <td>20.7</td>\n",
       "      <td>23.8</td>\n",
       "      <td>28.5</td>\n",
       "      <td>27.8</td>\n",
       "      <td>24.7</td>\n",
       "      <td>18.9</td>\n",
       "      <td>12.8</td>\n",
       "      <td>10.9</td>\n",
       "    </tr>\n",
       "    <tr>\n",
       "      <th>1</th>\n",
       "      <td>ALGERIA</td>\n",
       "      <td>1976</td>\n",
       "      <td>8.6</td>\n",
       "      <td>10.6</td>\n",
       "      <td>11.3</td>\n",
       "      <td>15.8</td>\n",
       "      <td>19.7</td>\n",
       "      <td>24.9</td>\n",
       "      <td>27.5</td>\n",
       "      <td>25.0</td>\n",
       "      <td>24.2</td>\n",
       "      <td>19.0</td>\n",
       "      <td>11.7</td>\n",
       "      <td>11.1</td>\n",
       "    </tr>\n",
       "    <tr>\n",
       "      <th>2</th>\n",
       "      <td>ALGERIA</td>\n",
       "      <td>1977</td>\n",
       "      <td>11.0</td>\n",
       "      <td>12.4</td>\n",
       "      <td>14.8</td>\n",
       "      <td>16.9</td>\n",
       "      <td>20.0</td>\n",
       "      <td>23.0</td>\n",
       "      <td>28.7</td>\n",
       "      <td>26.0</td>\n",
       "      <td>24.0</td>\n",
       "      <td>19.4</td>\n",
       "      <td>14.0</td>\n",
       "      <td>11.7</td>\n",
       "    </tr>\n",
       "    <tr>\n",
       "      <th>3</th>\n",
       "      <td>ALGERIA</td>\n",
       "      <td>1978</td>\n",
       "      <td>9.1</td>\n",
       "      <td>13.1</td>\n",
       "      <td>13.8</td>\n",
       "      <td>16.9</td>\n",
       "      <td>20.0</td>\n",
       "      <td>25.1</td>\n",
       "      <td>28.1</td>\n",
       "      <td>27.8</td>\n",
       "      <td>24.8</td>\n",
       "      <td>17.8</td>\n",
       "      <td>12.6</td>\n",
       "      <td>12.9</td>\n",
       "    </tr>\n",
       "    <tr>\n",
       "      <th>4</th>\n",
       "      <td>ALGERIA</td>\n",
       "      <td>1979</td>\n",
       "      <td>13.0</td>\n",
       "      <td>12.1</td>\n",
       "      <td>14.4</td>\n",
       "      <td>15.0</td>\n",
       "      <td>21.0</td>\n",
       "      <td>26.5</td>\n",
       "      <td>29.3</td>\n",
       "      <td>29.2</td>\n",
       "      <td>23.8</td>\n",
       "      <td>20.0</td>\n",
       "      <td>11.5</td>\n",
       "      <td>10.2</td>\n",
       "    </tr>\n",
       "  </tbody>\n",
       "</table>\n",
       "</div>"
      ],
      "text/plain": [
       "                                    Country  Year   Jan   Feb   Mar   Apr  \\\n",
       "0  ALGERIA                                   1975   8.9  10.3  12.1  16.4   \n",
       "1  ALGERIA                                   1976   8.6  10.6  11.3  15.8   \n",
       "2  ALGERIA                                   1977  11.0  12.4  14.8  16.9   \n",
       "3  ALGERIA                                   1978   9.1  13.1  13.8  16.9   \n",
       "4  ALGERIA                                   1979  13.0  12.1  14.4  15.0   \n",
       "\n",
       "    May   Jun   Jul   Aug   Sep   Oct   Nov   Dec  \n",
       "0  20.7  23.8  28.5  27.8  24.7  18.9  12.8  10.9  \n",
       "1  19.7  24.9  27.5  25.0  24.2  19.0  11.7  11.1  \n",
       "2  20.0  23.0  28.7  26.0  24.0  19.4  14.0  11.7  \n",
       "3  20.0  25.1  28.1  27.8  24.8  17.8  12.6  12.9  \n",
       "4  21.0  26.5  29.3  29.2  23.8  20.0  11.5  10.2  "
      ]
     },
     "execution_count": 122,
     "metadata": {},
     "output_type": "execute_result"
    }
   ],
   "source": [
    "#read data file\n",
    "tempDF = pd.read_csv(os.path.join(data_path, dataFile))\n",
    "\n",
    "tempDF = tempDF[(tempDF['Year'] >= 1975) & (tempDF['Year'] <= 2017)]\n",
    "\n",
    "tempDF.head()"
   ]
  },
  {
   "cell_type": "markdown",
   "metadata": {},
   "source": [
    "### Step 2 - Reconfirm that data has no missing values\n",
    "\n",
    "Check again to see if any values are missing. \n",
    "\n",
    "If missing, fix it by using means from each row.\n",
    "\n",
    "Else all is good to go!\n"
   ]
  },
  {
   "cell_type": "code",
   "execution_count": 123,
   "metadata": {},
   "outputs": [
    {
     "data": {
      "text/markdown": [
       "#### All Good!!! No missing values"
      ],
      "text/plain": [
       "<IPython.core.display.Markdown object>"
      ]
     },
     "metadata": {},
     "output_type": "display_data"
    }
   ],
   "source": [
    "#check for missing values\n",
    "if(tempDF.isnull().values.sum() != 0 ):\n",
    "    # few data is missing, fix it before you proceed\n",
    "    print(f\"#### Dataframe has missing values. Total missing values are {tempDF.isnull().values.sum()}\")\n",
    "    printmd(\"#### ___________________________________________________________________\")\n",
    "    printmd(\"#### Fixing the missing values with rowMeans\")\n",
    "    rowMeans = tempDF[['Jan','Feb','Mar','Apr','May','Jun','Jul','Aug','Sep','Oct','Nov','Dec']].mean(axis = 1)\n",
    "    tempDF = tempDF.apply(lambda r: r.fillna(rowMeans[r.index]))\n",
    "    printmd(\"#### All Good!!! No missing values\")\n",
    "else:\n",
    "    printmd(\"#### All Good!!! No missing values\")\n",
    "    "
   ]
  },
  {
   "cell_type": "markdown",
   "metadata": {},
   "source": [
    "### Step 3: Reshape data using melt() \n",
    "\n",
    "Reshape the data and move month values from columns to row\n",
    "\n",
    "This is needed to determine moving average of the temperature data\n"
   ]
  },
  {
   "cell_type": "code",
   "execution_count": 124,
   "metadata": {},
   "outputs": [
    {
     "data": {
      "text/markdown": [
       "### Before Reshaping the data........."
      ],
      "text/plain": [
       "<IPython.core.display.Markdown object>"
      ]
     },
     "metadata": {},
     "output_type": "display_data"
    },
    {
     "data": {
      "text/html": [
       "<div>\n",
       "<style scoped>\n",
       "    .dataframe tbody tr th:only-of-type {\n",
       "        vertical-align: middle;\n",
       "    }\n",
       "\n",
       "    .dataframe tbody tr th {\n",
       "        vertical-align: top;\n",
       "    }\n",
       "\n",
       "    .dataframe thead th {\n",
       "        text-align: right;\n",
       "    }\n",
       "</style>\n",
       "<table border=\"1\" class=\"dataframe\">\n",
       "  <thead>\n",
       "    <tr style=\"text-align: right;\">\n",
       "      <th></th>\n",
       "      <th>Country</th>\n",
       "      <th>Year</th>\n",
       "      <th>Jan</th>\n",
       "      <th>Feb</th>\n",
       "      <th>Mar</th>\n",
       "      <th>Apr</th>\n",
       "      <th>May</th>\n",
       "      <th>Jun</th>\n",
       "      <th>Jul</th>\n",
       "      <th>Aug</th>\n",
       "      <th>Sep</th>\n",
       "      <th>Oct</th>\n",
       "      <th>Nov</th>\n",
       "      <th>Dec</th>\n",
       "    </tr>\n",
       "  </thead>\n",
       "  <tbody>\n",
       "    <tr>\n",
       "      <th>0</th>\n",
       "      <td>ALGERIA</td>\n",
       "      <td>1975</td>\n",
       "      <td>8.9</td>\n",
       "      <td>10.3</td>\n",
       "      <td>12.1</td>\n",
       "      <td>16.4</td>\n",
       "      <td>20.7</td>\n",
       "      <td>23.8</td>\n",
       "      <td>28.5</td>\n",
       "      <td>27.8</td>\n",
       "      <td>24.7</td>\n",
       "      <td>18.9</td>\n",
       "      <td>12.8</td>\n",
       "      <td>10.9</td>\n",
       "    </tr>\n",
       "    <tr>\n",
       "      <th>1</th>\n",
       "      <td>ALGERIA</td>\n",
       "      <td>1976</td>\n",
       "      <td>8.6</td>\n",
       "      <td>10.6</td>\n",
       "      <td>11.3</td>\n",
       "      <td>15.8</td>\n",
       "      <td>19.7</td>\n",
       "      <td>24.9</td>\n",
       "      <td>27.5</td>\n",
       "      <td>25.0</td>\n",
       "      <td>24.2</td>\n",
       "      <td>19.0</td>\n",
       "      <td>11.7</td>\n",
       "      <td>11.1</td>\n",
       "    </tr>\n",
       "    <tr>\n",
       "      <th>2</th>\n",
       "      <td>ALGERIA</td>\n",
       "      <td>1977</td>\n",
       "      <td>11.0</td>\n",
       "      <td>12.4</td>\n",
       "      <td>14.8</td>\n",
       "      <td>16.9</td>\n",
       "      <td>20.0</td>\n",
       "      <td>23.0</td>\n",
       "      <td>28.7</td>\n",
       "      <td>26.0</td>\n",
       "      <td>24.0</td>\n",
       "      <td>19.4</td>\n",
       "      <td>14.0</td>\n",
       "      <td>11.7</td>\n",
       "    </tr>\n",
       "    <tr>\n",
       "      <th>3</th>\n",
       "      <td>ALGERIA</td>\n",
       "      <td>1978</td>\n",
       "      <td>9.1</td>\n",
       "      <td>13.1</td>\n",
       "      <td>13.8</td>\n",
       "      <td>16.9</td>\n",
       "      <td>20.0</td>\n",
       "      <td>25.1</td>\n",
       "      <td>28.1</td>\n",
       "      <td>27.8</td>\n",
       "      <td>24.8</td>\n",
       "      <td>17.8</td>\n",
       "      <td>12.6</td>\n",
       "      <td>12.9</td>\n",
       "    </tr>\n",
       "    <tr>\n",
       "      <th>4</th>\n",
       "      <td>ALGERIA</td>\n",
       "      <td>1979</td>\n",
       "      <td>13.0</td>\n",
       "      <td>12.1</td>\n",
       "      <td>14.4</td>\n",
       "      <td>15.0</td>\n",
       "      <td>21.0</td>\n",
       "      <td>26.5</td>\n",
       "      <td>29.3</td>\n",
       "      <td>29.2</td>\n",
       "      <td>23.8</td>\n",
       "      <td>20.0</td>\n",
       "      <td>11.5</td>\n",
       "      <td>10.2</td>\n",
       "    </tr>\n",
       "  </tbody>\n",
       "</table>\n",
       "</div>"
      ],
      "text/plain": [
       "                                    Country  Year   Jan   Feb   Mar   Apr  \\\n",
       "0  ALGERIA                                   1975   8.9  10.3  12.1  16.4   \n",
       "1  ALGERIA                                   1976   8.6  10.6  11.3  15.8   \n",
       "2  ALGERIA                                   1977  11.0  12.4  14.8  16.9   \n",
       "3  ALGERIA                                   1978   9.1  13.1  13.8  16.9   \n",
       "4  ALGERIA                                   1979  13.0  12.1  14.4  15.0   \n",
       "\n",
       "    May   Jun   Jul   Aug   Sep   Oct   Nov   Dec  \n",
       "0  20.7  23.8  28.5  27.8  24.7  18.9  12.8  10.9  \n",
       "1  19.7  24.9  27.5  25.0  24.2  19.0  11.7  11.1  \n",
       "2  20.0  23.0  28.7  26.0  24.0  19.4  14.0  11.7  \n",
       "3  20.0  25.1  28.1  27.8  24.8  17.8  12.6  12.9  \n",
       "4  21.0  26.5  29.3  29.2  23.8  20.0  11.5  10.2  "
      ]
     },
     "execution_count": 124,
     "metadata": {},
     "output_type": "execute_result"
    }
   ],
   "source": [
    "# Before reshaping\n",
    "printmd(\"### Before Reshaping the data.........\")\n",
    "tempDF.head()"
   ]
  },
  {
   "cell_type": "code",
   "execution_count": 125,
   "metadata": {},
   "outputs": [
    {
     "data": {
      "text/markdown": [
       "### After Reshaping the data.............."
      ],
      "text/plain": [
       "<IPython.core.display.Markdown object>"
      ]
     },
     "metadata": {},
     "output_type": "display_data"
    },
    {
     "data": {
      "text/html": [
       "<div>\n",
       "<style scoped>\n",
       "    .dataframe tbody tr th:only-of-type {\n",
       "        vertical-align: middle;\n",
       "    }\n",
       "\n",
       "    .dataframe tbody tr th {\n",
       "        vertical-align: top;\n",
       "    }\n",
       "\n",
       "    .dataframe thead th {\n",
       "        text-align: right;\n",
       "    }\n",
       "</style>\n",
       "<table border=\"1\" class=\"dataframe\">\n",
       "  <thead>\n",
       "    <tr style=\"text-align: right;\">\n",
       "      <th></th>\n",
       "      <th>Country</th>\n",
       "      <th>Year</th>\n",
       "      <th>Month</th>\n",
       "      <th>Monthly_Temp</th>\n",
       "    </tr>\n",
       "  </thead>\n",
       "  <tbody>\n",
       "    <tr>\n",
       "      <th>0</th>\n",
       "      <td>ALGERIA</td>\n",
       "      <td>1975</td>\n",
       "      <td>Jan</td>\n",
       "      <td>8.9</td>\n",
       "    </tr>\n",
       "    <tr>\n",
       "      <th>1</th>\n",
       "      <td>ALGERIA</td>\n",
       "      <td>1976</td>\n",
       "      <td>Jan</td>\n",
       "      <td>8.6</td>\n",
       "    </tr>\n",
       "    <tr>\n",
       "      <th>2</th>\n",
       "      <td>ALGERIA</td>\n",
       "      <td>1977</td>\n",
       "      <td>Jan</td>\n",
       "      <td>11.0</td>\n",
       "    </tr>\n",
       "    <tr>\n",
       "      <th>3</th>\n",
       "      <td>ALGERIA</td>\n",
       "      <td>1978</td>\n",
       "      <td>Jan</td>\n",
       "      <td>9.1</td>\n",
       "    </tr>\n",
       "    <tr>\n",
       "      <th>4</th>\n",
       "      <td>ALGERIA</td>\n",
       "      <td>1979</td>\n",
       "      <td>Jan</td>\n",
       "      <td>13.0</td>\n",
       "    </tr>\n",
       "  </tbody>\n",
       "</table>\n",
       "</div>"
      ],
      "text/plain": [
       "                                    Country  Year Month  Monthly_Temp\n",
       "0  ALGERIA                                   1975   Jan           8.9\n",
       "1  ALGERIA                                   1976   Jan           8.6\n",
       "2  ALGERIA                                   1977   Jan          11.0\n",
       "3  ALGERIA                                   1978   Jan           9.1\n",
       "4  ALGERIA                                   1979   Jan          13.0"
      ]
     },
     "execution_count": 125,
     "metadata": {},
     "output_type": "execute_result"
    }
   ],
   "source": [
    "# Reshape Temp data, such that months are in rows and data col is added\n",
    "# USE melt() to change the column-wise months into row-wse data\n",
    "\n",
    "temp_flatDF = pd.melt(tempDF, id_vars =['Country','Year'], var_name = 'Month', value_name = \"Monthly_Temp\")\n",
    "\n",
    "printmd(\"### After Reshaping the data..............\")\n",
    "temp_flatDF.head()"
   ]
  },
  {
   "cell_type": "markdown",
   "metadata": {},
   "source": [
    "### Step 4 : Add Date Column\n",
    "\n",
    "Add the date column to the dataframe. "
   ]
  },
  {
   "cell_type": "code",
   "execution_count": 126,
   "metadata": {},
   "outputs": [
    {
     "data": {
      "text/markdown": [
       "#### Dataframe before start of analysis...."
      ],
      "text/plain": [
       "<IPython.core.display.Markdown object>"
      ]
     },
     "metadata": {},
     "output_type": "display_data"
    },
    {
     "data": {
      "text/html": [
       "<div>\n",
       "<style scoped>\n",
       "    .dataframe tbody tr th:only-of-type {\n",
       "        vertical-align: middle;\n",
       "    }\n",
       "\n",
       "    .dataframe tbody tr th {\n",
       "        vertical-align: top;\n",
       "    }\n",
       "\n",
       "    .dataframe thead th {\n",
       "        text-align: right;\n",
       "    }\n",
       "</style>\n",
       "<table border=\"1\" class=\"dataframe\">\n",
       "  <thead>\n",
       "    <tr style=\"text-align: right;\">\n",
       "      <th></th>\n",
       "      <th>Country</th>\n",
       "      <th>Year</th>\n",
       "      <th>Month</th>\n",
       "      <th>Monthly_Temp</th>\n",
       "      <th>Month_Num</th>\n",
       "      <th>Date</th>\n",
       "    </tr>\n",
       "  </thead>\n",
       "  <tbody>\n",
       "    <tr>\n",
       "      <th>0</th>\n",
       "      <td>ALGERIA</td>\n",
       "      <td>1975</td>\n",
       "      <td>Jan</td>\n",
       "      <td>8.9</td>\n",
       "      <td>1</td>\n",
       "      <td>1975-01-01</td>\n",
       "    </tr>\n",
       "    <tr>\n",
       "      <th>1</th>\n",
       "      <td>ALGERIA</td>\n",
       "      <td>1976</td>\n",
       "      <td>Jan</td>\n",
       "      <td>8.6</td>\n",
       "      <td>1</td>\n",
       "      <td>1976-01-01</td>\n",
       "    </tr>\n",
       "    <tr>\n",
       "      <th>2</th>\n",
       "      <td>ALGERIA</td>\n",
       "      <td>1977</td>\n",
       "      <td>Jan</td>\n",
       "      <td>11.0</td>\n",
       "      <td>1</td>\n",
       "      <td>1977-01-01</td>\n",
       "    </tr>\n",
       "    <tr>\n",
       "      <th>3</th>\n",
       "      <td>ALGERIA</td>\n",
       "      <td>1978</td>\n",
       "      <td>Jan</td>\n",
       "      <td>9.1</td>\n",
       "      <td>1</td>\n",
       "      <td>1978-01-01</td>\n",
       "    </tr>\n",
       "    <tr>\n",
       "      <th>4</th>\n",
       "      <td>ALGERIA</td>\n",
       "      <td>1979</td>\n",
       "      <td>Jan</td>\n",
       "      <td>13.0</td>\n",
       "      <td>1</td>\n",
       "      <td>1979-01-01</td>\n",
       "    </tr>\n",
       "  </tbody>\n",
       "</table>\n",
       "</div>"
      ],
      "text/plain": [
       "                                    Country  Year Month  Monthly_Temp  \\\n",
       "0  ALGERIA                                   1975   Jan           8.9   \n",
       "1  ALGERIA                                   1976   Jan           8.6   \n",
       "2  ALGERIA                                   1977   Jan          11.0   \n",
       "3  ALGERIA                                   1978   Jan           9.1   \n",
       "4  ALGERIA                                   1979   Jan          13.0   \n",
       "\n",
       "   Month_Num       Date  \n",
       "0          1 1975-01-01  \n",
       "1          1 1976-01-01  \n",
       "2          1 1977-01-01  \n",
       "3          1 1978-01-01  \n",
       "4          1 1979-01-01  "
      ]
     },
     "execution_count": 126,
     "metadata": {},
     "output_type": "execute_result"
    }
   ],
   "source": [
    "#Convert month names to month number\n",
    "month_num = dict((v,k) for k,v in enumerate(calendar.month_abbr))\n",
    "\n",
    "temp_flatDF['Month_Num'] = temp_flatDF['Month'].apply(lambda r: month_num[r] )\n",
    "\n",
    "# Add Date column, example 01-Jan-1975\n",
    "temp_flatDF['Date'] = temp_flatDF['Year'].astype(str)+'-'+temp_flatDF['Month'].astype(str)+'-01'\n",
    "temp_flatDF['Date'] = temp_flatDF['Date'].apply(lambda r: datetime.strptime(r , '%Y-%b-%d'))\n",
    "\n",
    "temp_flatDF.sort_values(by = ['Year','Month_Num'])\n",
    "\n",
    "printmd(\"#### Dataframe before start of analysis....\")\n",
    "temp_flatDF.head()"
   ]
  },
  {
   "cell_type": "markdown",
   "metadata": {},
   "source": [
    "## START ANALYSIS"
   ]
  },
  {
   "cell_type": "markdown",
   "metadata": {},
   "source": [
    "### Roll up averages to global level for temp \n",
    "\n",
    "#### Group 1: Rollup country monthly averages to global yearly and monthly averages"
   ]
  },
  {
   "cell_type": "code",
   "execution_count": 127,
   "metadata": {},
   "outputs": [
    {
     "data": {
      "text/html": [
       "<div>\n",
       "<style scoped>\n",
       "    .dataframe tbody tr th:only-of-type {\n",
       "        vertical-align: middle;\n",
       "    }\n",
       "\n",
       "    .dataframe tbody tr th {\n",
       "        vertical-align: top;\n",
       "    }\n",
       "\n",
       "    .dataframe thead th {\n",
       "        text-align: right;\n",
       "    }\n",
       "</style>\n",
       "<table border=\"1\" class=\"dataframe\">\n",
       "  <thead>\n",
       "    <tr style=\"text-align: right;\">\n",
       "      <th></th>\n",
       "      <th>Year</th>\n",
       "      <th>Date</th>\n",
       "      <th>Month_Num</th>\n",
       "      <th>Monthly_Temp</th>\n",
       "    </tr>\n",
       "  </thead>\n",
       "  <tbody>\n",
       "    <tr>\n",
       "      <th>0</th>\n",
       "      <td>1975</td>\n",
       "      <td>1975-01-01</td>\n",
       "      <td>1</td>\n",
       "      <td>12.086667</td>\n",
       "    </tr>\n",
       "    <tr>\n",
       "      <th>1</th>\n",
       "      <td>1975</td>\n",
       "      <td>1975-02-01</td>\n",
       "      <td>2</td>\n",
       "      <td>12.323333</td>\n",
       "    </tr>\n",
       "    <tr>\n",
       "      <th>2</th>\n",
       "      <td>1975</td>\n",
       "      <td>1975-03-01</td>\n",
       "      <td>3</td>\n",
       "      <td>14.375417</td>\n",
       "    </tr>\n",
       "    <tr>\n",
       "      <th>3</th>\n",
       "      <td>1975</td>\n",
       "      <td>1975-04-01</td>\n",
       "      <td>4</td>\n",
       "      <td>16.607500</td>\n",
       "    </tr>\n",
       "    <tr>\n",
       "      <th>4</th>\n",
       "      <td>1975</td>\n",
       "      <td>1975-05-01</td>\n",
       "      <td>5</td>\n",
       "      <td>18.815833</td>\n",
       "    </tr>\n",
       "  </tbody>\n",
       "</table>\n",
       "</div>"
      ],
      "text/plain": [
       "   Year       Date  Month_Num  Monthly_Temp\n",
       "0  1975 1975-01-01          1     12.086667\n",
       "1  1975 1975-02-01          2     12.323333\n",
       "2  1975 1975-03-01          3     14.375417\n",
       "3  1975 1975-04-01          4     16.607500\n",
       "4  1975 1975-05-01          5     18.815833"
      ]
     },
     "execution_count": 127,
     "metadata": {},
     "output_type": "execute_result"
    }
   ],
   "source": [
    "# Group by year and month and aggregate values by mean()\n",
    "\n",
    "temp_GDF_YM = temp_flatDF.groupby(['Year','Date','Month_Num']).agg(np.mean)\n",
    "\n",
    "temp_GDF_YM.reset_index(inplace = True)\n",
    "\n",
    "\n",
    "temp_GDF_YM.sort_values(by = ['Year','Month_Num'])\n",
    "\n",
    "temp_GDF_YM.head()\n"
   ]
  },
  {
   "cell_type": "markdown",
   "metadata": {},
   "source": [
    "#### Group 2: Rollup country monthly averages to global  averages by year"
   ]
  },
  {
   "cell_type": "code",
   "execution_count": 128,
   "metadata": {},
   "outputs": [
    {
     "data": {
      "text/html": [
       "<div>\n",
       "<style scoped>\n",
       "    .dataframe tbody tr th:only-of-type {\n",
       "        vertical-align: middle;\n",
       "    }\n",
       "\n",
       "    .dataframe tbody tr th {\n",
       "        vertical-align: top;\n",
       "    }\n",
       "\n",
       "    .dataframe thead th {\n",
       "        text-align: right;\n",
       "    }\n",
       "</style>\n",
       "<table border=\"1\" class=\"dataframe\">\n",
       "  <thead>\n",
       "    <tr style=\"text-align: right;\">\n",
       "      <th></th>\n",
       "      <th>Year</th>\n",
       "      <th>Monthly_Temp</th>\n",
       "    </tr>\n",
       "  </thead>\n",
       "  <tbody>\n",
       "    <tr>\n",
       "      <th>0</th>\n",
       "      <td>1975</td>\n",
       "      <td>16.578437</td>\n",
       "    </tr>\n",
       "    <tr>\n",
       "      <th>1</th>\n",
       "      <td>1976</td>\n",
       "      <td>16.183403</td>\n",
       "    </tr>\n",
       "    <tr>\n",
       "      <th>2</th>\n",
       "      <td>1977</td>\n",
       "      <td>16.634201</td>\n",
       "    </tr>\n",
       "    <tr>\n",
       "      <th>3</th>\n",
       "      <td>1978</td>\n",
       "      <td>16.402431</td>\n",
       "    </tr>\n",
       "    <tr>\n",
       "      <th>4</th>\n",
       "      <td>1979</td>\n",
       "      <td>16.594826</td>\n",
       "    </tr>\n",
       "  </tbody>\n",
       "</table>\n",
       "</div>"
      ],
      "text/plain": [
       "   Year  Monthly_Temp\n",
       "0  1975     16.578437\n",
       "1  1976     16.183403\n",
       "2  1977     16.634201\n",
       "3  1978     16.402431\n",
       "4  1979     16.594826"
      ]
     },
     "execution_count": 128,
     "metadata": {},
     "output_type": "execute_result"
    }
   ],
   "source": [
    "# Group by year aggregate values by mean()\n",
    "\n",
    "temp_GDF_Y = temp_flatDF[['Year','Monthly_Temp']].groupby(['Year']).agg(np.mean)\n",
    "\n",
    "temp_GDF_Y.reset_index(inplace = True)\n",
    " \n",
    "temp_GDF_Y.head()"
   ]
  },
  {
   "cell_type": "code",
   "execution_count": 129,
   "metadata": {},
   "outputs": [
    {
     "data": {
      "text/html": [
       "<div>\n",
       "<style scoped>\n",
       "    .dataframe tbody tr th:only-of-type {\n",
       "        vertical-align: middle;\n",
       "    }\n",
       "\n",
       "    .dataframe tbody tr th {\n",
       "        vertical-align: top;\n",
       "    }\n",
       "\n",
       "    .dataframe thead th {\n",
       "        text-align: right;\n",
       "    }\n",
       "</style>\n",
       "<table border=\"1\" class=\"dataframe\">\n",
       "  <thead>\n",
       "    <tr style=\"text-align: right;\">\n",
       "      <th></th>\n",
       "      <th>Year</th>\n",
       "      <th>Monthly_Temp</th>\n",
       "    </tr>\n",
       "  </thead>\n",
       "  <tbody>\n",
       "    <tr>\n",
       "      <th>count</th>\n",
       "      <td>43.000000</td>\n",
       "      <td>43.000000</td>\n",
       "    </tr>\n",
       "    <tr>\n",
       "      <th>mean</th>\n",
       "      <td>1996.000000</td>\n",
       "      <td>17.124162</td>\n",
       "    </tr>\n",
       "    <tr>\n",
       "      <th>std</th>\n",
       "      <td>12.556539</td>\n",
       "      <td>0.450257</td>\n",
       "    </tr>\n",
       "    <tr>\n",
       "      <th>min</th>\n",
       "      <td>1975.000000</td>\n",
       "      <td>16.183403</td>\n",
       "    </tr>\n",
       "    <tr>\n",
       "      <th>25%</th>\n",
       "      <td>1985.500000</td>\n",
       "      <td>16.698454</td>\n",
       "    </tr>\n",
       "    <tr>\n",
       "      <th>50%</th>\n",
       "      <td>1996.000000</td>\n",
       "      <td>17.259494</td>\n",
       "    </tr>\n",
       "    <tr>\n",
       "      <th>75%</th>\n",
       "      <td>2006.500000</td>\n",
       "      <td>17.463717</td>\n",
       "    </tr>\n",
       "    <tr>\n",
       "      <th>max</th>\n",
       "      <td>2017.000000</td>\n",
       "      <td>17.923102</td>\n",
       "    </tr>\n",
       "  </tbody>\n",
       "</table>\n",
       "</div>"
      ],
      "text/plain": [
       "              Year  Monthly_Temp\n",
       "count    43.000000     43.000000\n",
       "mean   1996.000000     17.124162\n",
       "std      12.556539      0.450257\n",
       "min    1975.000000     16.183403\n",
       "25%    1985.500000     16.698454\n",
       "50%    1996.000000     17.259494\n",
       "75%    2006.500000     17.463717\n",
       "max    2017.000000     17.923102"
      ]
     },
     "execution_count": 129,
     "metadata": {},
     "output_type": "execute_result"
    }
   ],
   "source": [
    "temp_GDF_Y.describe()"
   ]
  },
  {
   "cell_type": "code",
   "execution_count": 130,
   "metadata": {},
   "outputs": [
    {
     "data": {
      "text/plain": [
       "[0,\n",
       " 16.6984537037037,\n",
       " 17.259494212962938,\n",
       " 17.46371662808641,\n",
       " 17.923101851851833]"
      ]
     },
     "execution_count": 130,
     "metadata": {},
     "output_type": "execute_result"
    }
   ],
   "source": [
    "temp_quartiles = list(temp_GDF_Y.describe()['Monthly_Temp'].iloc[4:8].values)\n",
    "temp_quartiles.append(0)\n",
    "temp_quartiles.sort()\n",
    "temp_quartiles"
   ]
  },
  {
   "cell_type": "code",
   "execution_count": 131,
   "metadata": {},
   "outputs": [
    {
     "data": {
      "text/html": [
       "<div>\n",
       "<style scoped>\n",
       "    .dataframe tbody tr th:only-of-type {\n",
       "        vertical-align: middle;\n",
       "    }\n",
       "\n",
       "    .dataframe tbody tr th {\n",
       "        vertical-align: top;\n",
       "    }\n",
       "\n",
       "    .dataframe thead th {\n",
       "        text-align: right;\n",
       "    }\n",
       "</style>\n",
       "<table border=\"1\" class=\"dataframe\">\n",
       "  <thead>\n",
       "    <tr style=\"text-align: right;\">\n",
       "      <th></th>\n",
       "      <th>Year</th>\n",
       "      <th>Monthly_Temp</th>\n",
       "      <th>TempGrps</th>\n",
       "    </tr>\n",
       "  </thead>\n",
       "  <tbody>\n",
       "    <tr>\n",
       "      <th>0</th>\n",
       "      <td>1975</td>\n",
       "      <td>16.578437</td>\n",
       "      <td>25th Quartile</td>\n",
       "    </tr>\n",
       "    <tr>\n",
       "      <th>1</th>\n",
       "      <td>1976</td>\n",
       "      <td>16.183403</td>\n",
       "      <td>25th Quartile</td>\n",
       "    </tr>\n",
       "    <tr>\n",
       "      <th>2</th>\n",
       "      <td>1977</td>\n",
       "      <td>16.634201</td>\n",
       "      <td>25th Quartile</td>\n",
       "    </tr>\n",
       "    <tr>\n",
       "      <th>3</th>\n",
       "      <td>1978</td>\n",
       "      <td>16.402431</td>\n",
       "      <td>25th Quartile</td>\n",
       "    </tr>\n",
       "    <tr>\n",
       "      <th>4</th>\n",
       "      <td>1979</td>\n",
       "      <td>16.594826</td>\n",
       "      <td>25th Quartile</td>\n",
       "    </tr>\n",
       "  </tbody>\n",
       "</table>\n",
       "</div>"
      ],
      "text/plain": [
       "   Year  Monthly_Temp       TempGrps\n",
       "0  1975     16.578437  25th Quartile\n",
       "1  1976     16.183403  25th Quartile\n",
       "2  1977     16.634201  25th Quartile\n",
       "3  1978     16.402431  25th Quartile\n",
       "4  1979     16.594826  25th Quartile"
      ]
     },
     "execution_count": 131,
     "metadata": {},
     "output_type": "execute_result"
    }
   ],
   "source": [
    "temp_quartiles = list(temp_GDF_Y.describe()['Monthly_Temp'].iloc[4:8].values)\n",
    "temp_quartiles.append(0)\n",
    "temp_quartiles.sort()\n",
    "\n",
    "grp_names = ['25th Quartile','50th Quartile', '75th Quartile', 'Max Value']\n",
    "\n",
    "temp_GDF_Y['TempGrps'] = pd.cut(temp_GDF_Y['Monthly_Temp'], temp_quartiles, labels = grp_names)\n",
    "\n",
    "temp_GDF_Y.head()"
   ]
  },
  {
   "cell_type": "code",
   "execution_count": 132,
   "metadata": {},
   "outputs": [
    {
     "data": {
      "text/html": [
       "<div>\n",
       "<style scoped>\n",
       "    .dataframe tbody tr th:only-of-type {\n",
       "        vertical-align: middle;\n",
       "    }\n",
       "\n",
       "    .dataframe tbody tr th {\n",
       "        vertical-align: top;\n",
       "    }\n",
       "\n",
       "    .dataframe thead th {\n",
       "        text-align: right;\n",
       "    }\n",
       "</style>\n",
       "<table border=\"1\" class=\"dataframe\">\n",
       "  <thead>\n",
       "    <tr style=\"text-align: right;\">\n",
       "      <th></th>\n",
       "      <th>Year</th>\n",
       "      <th>Monthly_Temp</th>\n",
       "      <th>TempGrps</th>\n",
       "      <th>MEAN</th>\n",
       "      <th>STD</th>\n",
       "    </tr>\n",
       "  </thead>\n",
       "  <tbody>\n",
       "    <tr>\n",
       "      <th>0</th>\n",
       "      <td>1975</td>\n",
       "      <td>16.578437</td>\n",
       "      <td>25th Quartile</td>\n",
       "      <td>17.124162</td>\n",
       "      <td>0.450257</td>\n",
       "    </tr>\n",
       "    <tr>\n",
       "      <th>1</th>\n",
       "      <td>1976</td>\n",
       "      <td>16.183403</td>\n",
       "      <td>25th Quartile</td>\n",
       "      <td>17.124162</td>\n",
       "      <td>0.450257</td>\n",
       "    </tr>\n",
       "    <tr>\n",
       "      <th>2</th>\n",
       "      <td>1977</td>\n",
       "      <td>16.634201</td>\n",
       "      <td>25th Quartile</td>\n",
       "      <td>17.124162</td>\n",
       "      <td>0.450257</td>\n",
       "    </tr>\n",
       "    <tr>\n",
       "      <th>3</th>\n",
       "      <td>1978</td>\n",
       "      <td>16.402431</td>\n",
       "      <td>25th Quartile</td>\n",
       "      <td>17.124162</td>\n",
       "      <td>0.450257</td>\n",
       "    </tr>\n",
       "    <tr>\n",
       "      <th>4</th>\n",
       "      <td>1979</td>\n",
       "      <td>16.594826</td>\n",
       "      <td>25th Quartile</td>\n",
       "      <td>17.124162</td>\n",
       "      <td>0.450257</td>\n",
       "    </tr>\n",
       "  </tbody>\n",
       "</table>\n",
       "</div>"
      ],
      "text/plain": [
       "   Year  Monthly_Temp       TempGrps       MEAN       STD\n",
       "0  1975     16.578437  25th Quartile  17.124162  0.450257\n",
       "1  1976     16.183403  25th Quartile  17.124162  0.450257\n",
       "2  1977     16.634201  25th Quartile  17.124162  0.450257\n",
       "3  1978     16.402431  25th Quartile  17.124162  0.450257\n",
       "4  1979     16.594826  25th Quartile  17.124162  0.450257"
      ]
     },
     "execution_count": 132,
     "metadata": {},
     "output_type": "execute_result"
    }
   ],
   "source": [
    "# Calculate Standard Deviation\n",
    "mean_temp = temp_GDF_Y['MEAN'] = temp_GDF_Y['Monthly_Temp'].mean()\n",
    "std_temp = temp_GDF_Y['STD'] = temp_GDF_Y['Monthly_Temp'].std()\n",
    "\n",
    "temp_GDF_Y.head()"
   ]
  },
  {
   "cell_type": "code",
   "execution_count": 133,
   "metadata": {},
   "outputs": [],
   "source": [
    "# CAlculate z_score for each value\n",
    "temp_GDF_Y['Z_SCORE'] = temp_GDF_Y['Monthly_Temp'].apply(lambda v : ((v - mean_temp)/std_temp) )"
   ]
  },
  {
   "cell_type": "markdown",
   "metadata": {},
   "source": [
    "### Calculate monthly moving average value for all years on 12 month rolling window"
   ]
  },
  {
   "cell_type": "code",
   "execution_count": 138,
   "metadata": {},
   "outputs": [
    {
     "data": {
      "text/html": [
       "<div>\n",
       "<style scoped>\n",
       "    .dataframe tbody tr th:only-of-type {\n",
       "        vertical-align: middle;\n",
       "    }\n",
       "\n",
       "    .dataframe tbody tr th {\n",
       "        vertical-align: top;\n",
       "    }\n",
       "\n",
       "    .dataframe thead th {\n",
       "        text-align: right;\n",
       "    }\n",
       "</style>\n",
       "<table border=\"1\" class=\"dataframe\">\n",
       "  <thead>\n",
       "    <tr style=\"text-align: right;\">\n",
       "      <th></th>\n",
       "      <th>Date</th>\n",
       "      <th>Monthly_Temp</th>\n",
       "      <th>Year</th>\n",
       "      <th>days</th>\n",
       "    </tr>\n",
       "  </thead>\n",
       "  <tbody>\n",
       "    <tr>\n",
       "      <th>0</th>\n",
       "      <td>1975-01-01</td>\n",
       "      <td>NaN</td>\n",
       "      <td>1975</td>\n",
       "      <td>0</td>\n",
       "    </tr>\n",
       "    <tr>\n",
       "      <th>1</th>\n",
       "      <td>1975-02-01</td>\n",
       "      <td>NaN</td>\n",
       "      <td>1975</td>\n",
       "      <td>31</td>\n",
       "    </tr>\n",
       "    <tr>\n",
       "      <th>2</th>\n",
       "      <td>1975-03-01</td>\n",
       "      <td>NaN</td>\n",
       "      <td>1975</td>\n",
       "      <td>59</td>\n",
       "    </tr>\n",
       "    <tr>\n",
       "      <th>3</th>\n",
       "      <td>1975-04-01</td>\n",
       "      <td>NaN</td>\n",
       "      <td>1975</td>\n",
       "      <td>90</td>\n",
       "    </tr>\n",
       "    <tr>\n",
       "      <th>4</th>\n",
       "      <td>1975-05-01</td>\n",
       "      <td>NaN</td>\n",
       "      <td>1975</td>\n",
       "      <td>120</td>\n",
       "    </tr>\n",
       "  </tbody>\n",
       "</table>\n",
       "</div>"
      ],
      "text/plain": [
       "        Date  Monthly_Temp  Year  days\n",
       "0 1975-01-01           NaN  1975     0\n",
       "1 1975-02-01           NaN  1975    31\n",
       "2 1975-03-01           NaN  1975    59\n",
       "3 1975-04-01           NaN  1975    90\n",
       "4 1975-05-01           NaN  1975   120"
      ]
     },
     "execution_count": 138,
     "metadata": {},
     "output_type": "execute_result"
    }
   ],
   "source": [
    "temp_movAvg_DF = temp_GDF_YM[['Date','Monthly_Temp']].rolling(window = 12, on = 'Date').mean()\n",
    "\n",
    "#temp_movAvg_DF.set_index('Date', inplace = True)\n",
    "\n",
    "#get year\n",
    "temp_movAvg_DF['Year'] = temp_movAvg_DF['Date'].apply(lambda r : r.year)\n",
    "\n",
    "# get time delta in months so we can how temperature varies\n",
    "temp_movAvg_DF.set_index('Date', inplace = True)\n",
    "timedel = (temp_movAvg_DF.index - temp_movAvg_DF.index[0])\n",
    "\n",
    "temp_movAvg_DF['days'] = timedel.days\n",
    "\n",
    "\n",
    "temp_movAvg_DF.reset_index(inplace = True)\n",
    "temp_movAvg_DF.head()\n"
   ]
  },
  {
   "cell_type": "markdown",
   "metadata": {},
   "source": [
    "## Exploratory Analysis\n",
    "\n",
    "### Create simple plot of Average Yearly Temperature by year - to visualise temp trend"
   ]
  },
  {
   "cell_type": "code",
   "execution_count": 139,
   "metadata": {},
   "outputs": [],
   "source": [
    "# Plot a moving average of temperature since 1975\n",
    "\n",
    "x_axis1 = temp_movAvg_DF['Date'].apply(lambda d : mpl.dates.date2num(d))\n",
    "#x_axis1 = temp_movAvg_DF['days']\n",
    "y_axis1 = temp_movAvg_DF['Monthly_Temp'] \n",
    "\n",
    "#mask is boolean values that tells plot to use or ignore values\n",
    "mask = ~np.isnan(y_axis1)\n",
    "\n",
    "x_axis1 = x_axis1[mask]\n",
    "y_axis1 = y_axis1[mask]\n"
   ]
  },
  {
   "cell_type": "code",
   "execution_count": 157,
   "metadata": {},
   "outputs": [
    {
     "data": {
      "text/markdown": [
       "### Average Temperature change month on month from 1975 to 2017 "
      ],
      "text/plain": [
       "<IPython.core.display.Markdown object>"
      ]
     },
     "metadata": {},
     "output_type": "display_data"
    },
    {
     "data": {
      "text/markdown": [
       "This indicates that temperature is rising over years though by small degree linearly"
      ],
      "text/plain": [
       "<IPython.core.display.Markdown object>"
      ]
     },
     "metadata": {},
     "output_type": "display_data"
    },
    {
     "data": {
      "image/png": "[encoded data removed]",
      "text/plain": [
       "<Figure size 648x504 with 1 Axes>"
      ]
     },
     "metadata": {},
     "output_type": "display_data"
    }
   ],
   "source": [
    "# # Plot a simple timeseries plot to show temperature trend\n",
    "\n",
    "printmd(f\"### Average Temperature change month on month from {temp_movAvg_DF['Year'].min()} to {temp_movAvg_DF['Year'].max()} \")\n",
    "printmd(\"This indicates that temperature is rising over years though by small degree linearly\")\n",
    "g = sns.lineplot(x_axis1,y_axis1, color = '#0098BF')\n",
    "\n",
    "ax1 = g.axes\n",
    "ax1.set_xticklabels(ax.get_xticks())\n",
    "\n",
    "labels = [item.get_text() for item in ax.get_xticklabels()]\n",
    "ax1.set_xticklabels(labels, rotation = 20)\n",
    "\n",
    "ax1.set(xlabel='Years', ylabel='Avg. Temperature (Deg C)')\n",
    "\n",
    "fig = plt.gcf()\n",
    "fig.set_size_inches( 9, 7)\n",
    "\n",
    "plt.savefig(os.path.join(image_dir,\"AvgTemp_Change_rolling.png\"))\n",
    "\n",
    "plt.show()\n"
   ]
  },
  {
   "cell_type": "code",
   "execution_count": 158,
   "metadata": {},
   "outputs": [
    {
     "data": {
      "text/markdown": [
       "### PLot showing Z-Score representation temperature over years"
      ],
      "text/plain": [
       "<IPython.core.display.Markdown object>"
      ]
     },
     "metadata": {},
     "output_type": "display_data"
    },
    {
     "data": {
      "image/png": "[encoded data removed]",
      "text/plain": [
       "<Figure size 864x504 with 1 Axes>"
      ]
     },
     "metadata": {},
     "output_type": "display_data"
    }
   ],
   "source": [
    "printmd(\"### PLot showing Z-Score representation temperature over years\")\n",
    "\n",
    "simpPlt_ax = sns.relplot( 'Year','Monthly_Temp', data = temp_GDF_Y,  \\\n",
    "                         hue = 'Z_SCORE', palette = 'nipy_spectral', s = 85)\n",
    "\n",
    "simpPlt_ax.set(xlabel='Years', ylabel='Avg. Temperature (Deg C)', title = \"Avg Temperature (in C) since 1975\")\n",
    "\n",
    "simpPlt_ax.fig.get_children()[-1].set_bbox_to_anchor((0.6,0.15,0.0,0.2))\n",
    "\n",
    "fig = plt.gcf()\n",
    "fig.set_size_inches( 12, 7)\n",
    "#plt.legend(loc='upper left')\n",
    "\n",
    "plt.savefig(os.path.join(image_dir,\"TempvsTimePlt.png\"))\n",
    "\n",
    "plt.show()"
   ]
  },
  {
   "cell_type": "markdown",
   "metadata": {},
   "source": [
    "### Distribution of temperature"
   ]
  },
  {
   "cell_type": "code",
   "execution_count": 135,
   "metadata": {},
   "outputs": [
    {
     "data": {
      "image/png": "[encoded data removed]",
      "text/plain": [
       "<Figure size 576x504 with 1 Axes>"
      ]
     },
     "metadata": {},
     "output_type": "display_data"
    }
   ],
   "source": [
    "distPlt_Temp = sns.distplot(temp_GDF_Y['Monthly_Temp'], color = \"#0098BF\")\n",
    "\n",
    "distPlt_Temp.set(xlabel='Avg Temperature(degC)', ylabel='Frequency', title = \"Distribution of Avg Temperature since 1975\")\n",
    "\n",
    "fig = plt.gcf()\n",
    "fig.set_size_inches( 8, 7)\n",
    "\n",
    "plt.savefig(os.path.join(image_dir,\"TempDist.png\"))\n",
    "\n",
    "plt.show()"
   ]
  },
  {
   "cell_type": "markdown",
   "metadata": {},
   "source": [
    "### Regression Analysis on Temp - Monthly Moving Average"
   ]
  },
  {
   "cell_type": "code",
   "execution_count": 136,
   "metadata": {},
   "outputs": [
    {
     "data": {
      "text/markdown": [
       "#### Slope of the regression line is 0.03326803472152286"
      ],
      "text/plain": [
       "<IPython.core.display.Markdown object>"
      ]
     },
     "metadata": {},
     "output_type": "display_data"
    },
    {
     "data": {
      "text/markdown": [
       "#### p-Value of the regression line is 3.7341400868911146e-19"
      ],
      "text/plain": [
       "<IPython.core.display.Markdown object>"
      ]
     },
     "metadata": {},
     "output_type": "display_data"
    }
   ],
   "source": [
    "#\n",
    "# Set line\n",
    "x_axis = temp_GDF_Y['Year']\n",
    "y_axis = temp_GDF_Y['Monthly_Temp'] \n",
    "(slope, intercept, r_value, p_value, std_err) = linregress(x_axis, y_axis)\n",
    "fit = slope * x_axis + intercept\n",
    "printmd(f\"#### Slope of the regression line is {slope}\")\n",
    "printmd(f\"#### p-Value of the regression line is {p_value}\")"
   ]
  },
  {
   "cell_type": "code",
   "execution_count": 183,
   "metadata": {},
   "outputs": [
    {
     "data": {
      "text/markdown": [
       "### Plot showing a Linear Regression Model Fit for Average Temperature"
      ],
      "text/plain": [
       "<IPython.core.display.Markdown object>"
      ]
     },
     "metadata": {},
     "output_type": "display_data"
    },
    {
     "data": {
      "image/png": "[encoded data removed]",
      "text/plain": [
       "<Figure size 864x504 with 1 Axes>"
      ]
     },
     "metadata": {},
     "output_type": "display_data"
    }
   ],
   "source": [
    "# create seaborn plot for regression\n",
    "\n",
    "printmd(\"### Plot showing a Linear Regression Model Fit for Average Temperature\")\n",
    "\n",
    "regPlot_ax = sns.regplot(x=\"Year\", y=\"Monthly_Temp\", data=temp_GDF_Y, ci = 95, x_estimator=np.mean,\\\n",
    "                        scatter_kws = {\"color\":\"#FF6600\",\"alpha\":0.7}, line_kws = {\"color\":\"#0098BF\",\"alpha\":0.45,\"lw\":5})\n",
    "\n",
    "regPlot_ax.set(xlabel='Years', ylabel='Avg. Temperature (Deg C)', \\\n",
    "               title = \"Regression Line Fit of Avg Temperature (in C) since 1975\")\n",
    "\n",
    "fig = plt.gcf()\n",
    "fig.set_size_inches( 12, 7)\n",
    "\n",
    "plt.savefig(os.path.join(image_dir,\"AvgTemp_regressFit.png\"))\n",
    "\n",
    "plt.show()\n"
   ]
  },
  {
   "cell_type": "markdown",
   "metadata": {},
   "source": [
    "### ANNOVA  Test to prove \"Surface temp has risen more 0.5 degC since 1975\"\n",
    "\n",
    "4 groups are created 1975 - 1985, 1986 - 1996, 1997 - 2007, 2008 - 2017"
   ]
  },
  {
   "cell_type": "code",
   "execution_count": 141,
   "metadata": {},
   "outputs": [],
   "source": [
    "# Create four Bins of Temp over years\n",
    "bins = [1974, 1986, 1997, 2008,  2018]\n",
    "\n",
    "# Create the names for the four bins\n",
    "group_names = [\"1975 - 1985\", \"1986 - 1996\", \"1997 - 2007\", \"2008 - 2017\"]"
   ]
  },
  {
   "cell_type": "code",
   "execution_count": 142,
   "metadata": {},
   "outputs": [
    {
     "data": {
      "text/html": [
       "<div>\n",
       "<style scoped>\n",
       "    .dataframe tbody tr th:only-of-type {\n",
       "        vertical-align: middle;\n",
       "    }\n",
       "\n",
       "    .dataframe tbody tr th {\n",
       "        vertical-align: top;\n",
       "    }\n",
       "\n",
       "    .dataframe thead th {\n",
       "        text-align: right;\n",
       "    }\n",
       "</style>\n",
       "<table border=\"1\" class=\"dataframe\">\n",
       "  <thead>\n",
       "    <tr style=\"text-align: right;\">\n",
       "      <th></th>\n",
       "      <th>Year</th>\n",
       "      <th>Monthly_Temp</th>\n",
       "      <th>TempGrps</th>\n",
       "      <th>MEAN</th>\n",
       "      <th>STD</th>\n",
       "      <th>Z_SCORE</th>\n",
       "    </tr>\n",
       "  </thead>\n",
       "  <tbody>\n",
       "    <tr>\n",
       "      <th>0</th>\n",
       "      <td>1975</td>\n",
       "      <td>16.578437</td>\n",
       "      <td>1975 - 1985</td>\n",
       "      <td>17.124162</td>\n",
       "      <td>0.450257</td>\n",
       "      <td>-1.212028</td>\n",
       "    </tr>\n",
       "    <tr>\n",
       "      <th>1</th>\n",
       "      <td>1976</td>\n",
       "      <td>16.183403</td>\n",
       "      <td>1975 - 1985</td>\n",
       "      <td>17.124162</td>\n",
       "      <td>0.450257</td>\n",
       "      <td>-2.089382</td>\n",
       "    </tr>\n",
       "    <tr>\n",
       "      <th>2</th>\n",
       "      <td>1977</td>\n",
       "      <td>16.634201</td>\n",
       "      <td>1975 - 1985</td>\n",
       "      <td>17.124162</td>\n",
       "      <td>0.450257</td>\n",
       "      <td>-1.088179</td>\n",
       "    </tr>\n",
       "    <tr>\n",
       "      <th>3</th>\n",
       "      <td>1978</td>\n",
       "      <td>16.402431</td>\n",
       "      <td>1975 - 1985</td>\n",
       "      <td>17.124162</td>\n",
       "      <td>0.450257</td>\n",
       "      <td>-1.602931</td>\n",
       "    </tr>\n",
       "    <tr>\n",
       "      <th>4</th>\n",
       "      <td>1979</td>\n",
       "      <td>16.594826</td>\n",
       "      <td>1975 - 1985</td>\n",
       "      <td>17.124162</td>\n",
       "      <td>0.450257</td>\n",
       "      <td>-1.175629</td>\n",
       "    </tr>\n",
       "  </tbody>\n",
       "</table>\n",
       "</div>"
      ],
      "text/plain": [
       "   Year  Monthly_Temp     TempGrps       MEAN       STD   Z_SCORE\n",
       "0  1975     16.578437  1975 - 1985  17.124162  0.450257 -1.212028\n",
       "1  1976     16.183403  1975 - 1985  17.124162  0.450257 -2.089382\n",
       "2  1977     16.634201  1975 - 1985  17.124162  0.450257 -1.088179\n",
       "3  1978     16.402431  1975 - 1985  17.124162  0.450257 -1.602931\n",
       "4  1979     16.594826  1975 - 1985  17.124162  0.450257 -1.175629"
      ]
     },
     "execution_count": 142,
     "metadata": {},
     "output_type": "execute_result"
    }
   ],
   "source": [
    "temp_GDF_Y['TempGrps'] = pd.cut(temp_GDF_Y['Year'], bins, labels = group_names)\n",
    "\n",
    "temp_GDF_Y.head()"
   ]
  },
  {
   "cell_type": "code",
   "execution_count": 185,
   "metadata": {},
   "outputs": [
    {
     "data": {
      "text/markdown": [
       "### Box Plot of Avg. Surface Temperature (deg.C) for Year Group from 1975 to 2017"
      ],
      "text/plain": [
       "<IPython.core.display.Markdown object>"
      ]
     },
     "metadata": {},
     "output_type": "display_data"
    },
    {
     "data": {
      "image/png": "[encoded data removed]",
      "text/plain": [
       "<Figure size 864x504 with 1 Axes>"
      ]
     },
     "metadata": {},
     "output_type": "display_data"
    }
   ],
   "source": [
    "# Create a box whisker plot to see how the groups have been trendng\n",
    "printmd(f\"### Box Plot of Avg. Surface Temperature (deg.C) for Year Group from {min(x_axis)} to {max(x_axis)}\")\n",
    "box_ax = sns.boxplot(x=\"TempGrps\", y=\"Monthly_Temp\", data=temp_GDF_Y, palette='RdYlBu_r')\n",
    "\n",
    "box_ax.set(xlabel='Year Groups', ylabel='Avg. Temperature (Deg C)')\n",
    "\n",
    "fig = plt.gcf()\n",
    "fig.set_size_inches( 12, 7)\n",
    "\n",
    "plt.savefig(os.path.join(image_dir,\"AvgTemp_boxPlot.png\"))\n",
    "\n",
    "plt.show()"
   ]
  },
  {
   "cell_type": "markdown",
   "metadata": {},
   "source": [
    "### Create groups for ANNOVA analysis"
   ]
  },
  {
   "cell_type": "code",
   "execution_count": 144,
   "metadata": {},
   "outputs": [],
   "source": [
    "# Extract individual groups\n",
    "group1 = temp_GDF_Y[temp_GDF_Y[\"TempGrps\"] == group_names[0]][\"Monthly_Temp\"]\n",
    "group2 = temp_GDF_Y[temp_GDF_Y[\"TempGrps\"] == group_names[1]][\"Monthly_Temp\"]\n",
    "group3 = temp_GDF_Y[temp_GDF_Y[\"TempGrps\"] == group_names[2]][\"Monthly_Temp\"]\n",
    "group4 = temp_GDF_Y[temp_GDF_Y[\"TempGrps\"] == group_names[3]][\"Monthly_Temp\"]\n"
   ]
  },
  {
   "cell_type": "code",
   "execution_count": 149,
   "metadata": {},
   "outputs": [
    {
     "data": {
      "text/plain": [
       "F_onewayResult(statistic=79.5945379265069, pvalue=1.116950400152688e-16)"
      ]
     },
     "execution_count": 149,
     "metadata": {},
     "output_type": "execute_result"
    }
   ],
   "source": [
    "# Perform the ANOVA\n",
    "reslt = stats.f_oneway(group1, group2, group3, group4)\n",
    "\n",
    "reslt"
   ]
  },
  {
   "cell_type": "code",
   "execution_count": null,
   "metadata": {},
   "outputs": [],
   "source": []
  }
 ],
 "metadata": {
  "kernelspec": {
   "display_name": "Python 3",
   "language": "python",
   "name": "python3"
  },
  "language_info": {
   "codemirror_mode": {
    "name": "ipython",
    "version": 3
   },
   "file_extension": ".py",
   "mimetype": "text/x-python",
   "name": "python",
   "nbconvert_exporter": "python",
   "pygments_lexer": "ipython3",
   "version": "3.7.0"
  }
 },
 "nbformat": 4,
 "nbformat_minor": 2
}
