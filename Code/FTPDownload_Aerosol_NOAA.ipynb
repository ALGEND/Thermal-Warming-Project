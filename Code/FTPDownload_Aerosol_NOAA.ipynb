{
 "cells": [
  {
   "cell_type": "markdown",
   "metadata": {},
   "source": [
    "## Script to read the FTP server and copy data files locally\n",
    "\n",
    "This script connects to \"ftp.cmdl.noaa.gov\" server to copy .gz files for Aerosol data"
   ]
  },
  {
   "cell_type": "code",
   "execution_count": 2,
   "metadata": {},
   "outputs": [],
   "source": [
    "#import all dependencies\n",
    "from ftplib import FTP\n",
    "import ftplib\n",
    "import gzip\n",
    "import os\n",
    "import pandas as pd\n",
    "import numpy as np\n",
    "from calendar import monthrange"
   ]
  },
  {
   "cell_type": "code",
   "execution_count": 3,
   "metadata": {},
   "outputs": [],
   "source": [
    "# Declarations\n",
    "ftp_server = \"ftp.cmdl.noaa.gov\"\n",
    "\n",
    "stations = ['bnd','brw','mlo','smo','spo','sum','thd']"
   ]
  },
  {
   "cell_type": "code",
   "execution_count": 4,
   "metadata": {},
   "outputs": [
    {
     "name": "stdout",
     "output_type": "stream",
     "text": [
      "Directory _bnd already exists\n",
      "Directory _brw already exists\n",
      "Directory _mlo already exists\n",
      "Directory _smo already exists\n",
      "Directory _spo created\n",
      "Directory _sum created\n",
      "Directory _thd already exists\n"
     ]
    }
   ],
   "source": [
    " # Create a local directory with Station Code as the dirname\n",
    "\n",
    "for nm in stations:\n",
    "    if not os.path.exists(f\"..\\data\\rawdata\\_aerosol\\_{nm}\"):\n",
    "        os.mkdir(f\"..\\data\\rawdata\\_aerosol\\_{nm}\")\n",
    "        print(f\"Directory _{nm} created\")\n",
    "    else:    \n",
    "        print(f\"Directory _{nm} already exists\")"
   ]
  },
  {
   "cell_type": "code",
   "execution_count": 32,
   "metadata": {},
   "outputs": [
    {
     "name": "stdout",
     "output_type": "stream",
     "text": [
      "/data/aer/thd/0002\n",
      "[]\n",
      "/data/aer/thd/2002\n",
      "['US6005G.20020410000000.20171020004835.particle_number_concentration.aerosol.266d.1h.lev2.nas.gz']\n",
      "/data/aer/thd/2003\n",
      "['US6005G.20030101000000.20171020004930.particle_number_concentration.aerosol.219d.1h.lev2.nas.gz', 'US6005G.20030808000000.20171020004930.particle_number_concentration.aerosol.129d.1h.lev2.nas.gz', 'US6005G.20031215000000.20171020004930.particle_number_concentration.aerosol.17d.1h.lev2.nas.gz']\n",
      "/data/aer/thd/2004\n",
      "['US6005G.20040101000000.20171020005039.particle_number_concentration.aerosol.366d.1h.lev2.nas.gz']\n",
      "/data/aer/thd/2005\n",
      "['US6005G.20050101000000.20171020005151.particle_number_concentration.aerosol.103d.1h.lev2.nas.gz', 'US6005G.20050414000000.20171020005151.particle_number_concentration.aerosol.262d.1h.lev2.nas.gz']\n",
      "/data/aer/thd/2006\n",
      "['US6005G.20060101000000.20171020005305.particle_number_concentration.aerosol.219d.1h.lev2.nas.gz', 'US6005G.20060808000000.20171020005305.particle_number_concentration.aerosol.146d.1h.lev2.nas.gz']\n",
      "/data/aer/thd/2007\n",
      "['US6005G.20070101000000.20180624030709.particle_number_concentration.aerosol.1y.1h.lev2.nas.gz']\n",
      "/data/aer/thd/2008\n",
      "['US6005G.20080101000000.20171020005547.particle_number_concentration.aerosol.94d.1h.lev2.nas.gz', 'US6005G.20080404000000.20171020005547.particle_number_concentration.aerosol.59d.1h.lev2.nas.gz', 'US6005G.20080602000000.20171020005547.particle_number_concentration.aerosol.213d.1h.lev2.nas.gz']\n",
      "/data/aer/thd/2009\n",
      "['US6005G.20090101000000.20171020005712.particle_number_concentration.aerosol.204d.1h.lev2.nas.gz', 'US6005G.20090724000000.20171020005712.particle_number_concentration.aerosol.161d.1h.lev2.nas.gz']\n",
      "/data/aer/thd/2010\n",
      "['US6005G.20100101000000.20171020005832.particle_number_concentration.aerosol.1y.1h.lev2.nas.gz']\n",
      "/data/aer/thd/2011\n",
      "['US6005G.20110101000000.20180624030806.particle_number_concentration.aerosol.1y.1h.lev2.nas.gz']\n",
      "/data/aer/thd/2012\n",
      "['US6005G.20120101000000.20171020010117.particle_number_concentration.aerosol.366d.1h.lev2.nas.gz']\n",
      "/data/aer/thd/2013\n",
      "['US6005G.20130101000000.20180624030920.particle_number_concentration.aerosol.1y.1h.lev2.nas.gz']\n",
      "/data/aer/thd/2014\n",
      "['US6005G.20140101000000.20171020010410.particle_number_concentration.aerosol.1y.1h.lev2.nas.gz']\n",
      "/data/aer/thd/2015\n",
      "['US6005G.20150101000000.20171020010533.particle_number_concentration.aerosol.1y.1h.lev2.nas.gz']\n",
      "/data/aer/thd/2016\n",
      "['US6005G.20160101000000.20171020010653.particle_number_concentration.aerosol.8d.1h.lev2.nas.gz', 'US6005G.20160109000000.20171020010653.particle_number_concentration.aerosol.31d.1h.lev2.nas.gz', 'US6005G.20160209000000.20171020010653.particle_number_concentration.aerosol.263h.1h.lev2.nas.gz', 'US6005G.20160219230000.20171020010653.particle_number_concentration.aerosol.7585h.1h.lev2.nas.gz']\n",
      "/data/aer/thd/2017\n",
      "['US6005G.20170101000000.20180218054702.particle_number_concentration.aerosol.3644h.1h.lev2.nas.gz']\n"
     ]
    }
   ],
   "source": [
    "for s in stations:\n",
    "    # Open FTP Server and read the folder\n",
    "    with FTP(ftp_server) as ftp:\n",
    "        try:\n",
    "            ftp.login() ## login into ftp server\n",
    "            ftp.cwd(\"aerosol/\"+s) # change directory to the relevant station's dir\n",
    "\n",
    "            #set parent dir\n",
    "            parent_dir = ftp.pwd() # make sure parent directory is saved\n",
    "\n",
    "            years = [] # list to capture the num of years records are available\n",
    "\n",
    "            #get list of files\n",
    "            ftp.retrlines('NLST', years.append)\n",
    "\n",
    "            #browse through each year to obtain the .gzip raw data for particle aerosol concentration\n",
    "            for y in years:\n",
    "                ftp.cwd(y) # go to specific year dir\n",
    "                print(ftp.pwd()) # print the current directory\n",
    "\n",
    "                files = [] #get the list of files from the dir\n",
    "\n",
    "                ftp.retrlines('NLST', files.append)\n",
    "\n",
    "                #search for the file specific to particle concentration and ignore others\n",
    "                filenm = \"\"\n",
    "                filenm = [f for f in files if \"particle_number_concentration\" in f]\n",
    "\n",
    "                print(filenm) #print filenm - empty if not present\n",
    "                \n",
    "                #if the filenm is present then copy to local drive\n",
    "                if( filenm):\n",
    "                    #open local gzip file to write the chunk data from FTP\n",
    "                    with open(f\"..\\data\\rawdata\\_aerosol\\_{s}\\{y}{s}_conc.gz\", 'wb') as f:\n",
    "                        # Define the callback as a closure so it can access the opened \n",
    "                        # file in local scope\n",
    "                        def callback(data):\n",
    "                            f.write(data)\n",
    "                \n",
    "                        ftp.retrbinary('RETR %s' % filenm[0], callback) #retrieve file in binary to read and write locally\n",
    "                \n",
    "                #change to parent dir to access next year\n",
    "                ftp.cwd(parent_dir)\n",
    "            \n",
    "            # close ftp connection\n",
    "            ftp.quit()\n",
    "\n",
    "        except ftplib.all_errors as e:\n",
    "            print('FTP error:', e)\n"
   ]
  },
  {
   "cell_type": "code",
   "execution_count": null,
   "metadata": {},
   "outputs": [],
   "source": []
  }
 ],
 "metadata": {
  "kernelspec": {
   "display_name": "Python 3",
   "language": "python",
   "name": "python3"
  },
  "language_info": {
   "codemirror_mode": {
    "name": "ipython",
    "version": 3
   },
   "file_extension": ".py",
   "mimetype": "text/x-python",
   "name": "python",
   "nbconvert_exporter": "python",
   "pygments_lexer": "ipython3",
   "version": "3.7.0"
  }
 },
 "nbformat": 4,
 "nbformat_minor": 2
}
