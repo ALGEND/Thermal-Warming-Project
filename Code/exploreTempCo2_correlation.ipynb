{
 "cells": [
  {
   "cell_type": "code",
   "execution_count": 1,
   "metadata": {},
   "outputs": [],
   "source": [
    "%matplotlib inline"
   ]
  },
  {
   "cell_type": "code",
   "execution_count": 5,
   "metadata": {},
   "outputs": [],
   "source": [
    "import csv\n",
    "import pandas as pd\n",
    "import numpy as np\n",
    "import os\n",
    "from datetime import datetime\n",
    "import calendar\n",
    "\n",
    "import matplotlib.pyplot as plt\n",
    "import matplotlib as mpl\n",
    "\n",
    "from scipy.stats import linregress\n",
    "\n",
    "import scipy.stats as stats\n",
    "\n",
    "import warnings\n",
    "warnings.filterwarnings('ignore')\n",
    "\n"
   ]
  },
  {
   "cell_type": "code",
   "execution_count": 6,
   "metadata": {},
   "outputs": [],
   "source": [
    "# Global declarations\n",
    "data_path = \"..\\data\"\n",
    "\n",
    "temp_dataFile = \"AvgTempCYear_1.csv\"\n",
    "co2_dataFile = \"CO2_GlobalSummary.csv\"\n",
    "\n",
    "#Output folders\n",
    "result_dir = \"..\\output\"\n",
    "image_dir = \"..\\images\"\n",
    "\n",
    "# Plot Style to use\n",
    "mpl.style.use('seaborn')\n",
    "\n",
    "\n",
    "# - Month_num to Month Name mapping\n",
    "month_num = dict((v,k) for k,v in enumerate(calendar.month_abbr))\n",
    "\n",
    "month_name = list(v for k,v in enumerate(calendar.month_abbr))\n"
   ]
  },
  {
   "cell_type": "markdown",
   "metadata": {},
   "source": [
    "### Ready Temperature dataframe to merge with CO2"
   ]
  },
  {
   "cell_type": "code",
   "execution_count": 23,
   "metadata": {},
   "outputs": [
    {
     "data": {
      "text/html": [
       "<div>\n",
       "<style scoped>\n",
       "    .dataframe tbody tr th:only-of-type {\n",
       "        vertical-align: middle;\n",
       "    }\n",
       "\n",
       "    .dataframe tbody tr th {\n",
       "        vertical-align: top;\n",
       "    }\n",
       "\n",
       "    .dataframe thead th {\n",
       "        text-align: right;\n",
       "    }\n",
       "</style>\n",
       "<table border=\"1\" class=\"dataframe\">\n",
       "  <thead>\n",
       "    <tr style=\"text-align: right;\">\n",
       "      <th></th>\n",
       "      <th>Country</th>\n",
       "      <th>Year</th>\n",
       "      <th>Month</th>\n",
       "      <th>Monthly_Temp</th>\n",
       "    </tr>\n",
       "  </thead>\n",
       "  <tbody>\n",
       "    <tr>\n",
       "      <th>0</th>\n",
       "      <td>ALGERIA</td>\n",
       "      <td>1975</td>\n",
       "      <td>Jan</td>\n",
       "      <td>8.9</td>\n",
       "    </tr>\n",
       "    <tr>\n",
       "      <th>1</th>\n",
       "      <td>ALGERIA</td>\n",
       "      <td>1976</td>\n",
       "      <td>Jan</td>\n",
       "      <td>8.6</td>\n",
       "    </tr>\n",
       "    <tr>\n",
       "      <th>2</th>\n",
       "      <td>ALGERIA</td>\n",
       "      <td>1977</td>\n",
       "      <td>Jan</td>\n",
       "      <td>11.0</td>\n",
       "    </tr>\n",
       "    <tr>\n",
       "      <th>3</th>\n",
       "      <td>ALGERIA</td>\n",
       "      <td>1978</td>\n",
       "      <td>Jan</td>\n",
       "      <td>9.1</td>\n",
       "    </tr>\n",
       "    <tr>\n",
       "      <th>4</th>\n",
       "      <td>ALGERIA</td>\n",
       "      <td>1979</td>\n",
       "      <td>Jan</td>\n",
       "      <td>13.0</td>\n",
       "    </tr>\n",
       "  </tbody>\n",
       "</table>\n",
       "</div>"
      ],
      "text/plain": [
       "                                    Country  Year Month  Monthly_Temp\n",
       "0  ALGERIA                                   1975   Jan           8.9\n",
       "1  ALGERIA                                   1976   Jan           8.6\n",
       "2  ALGERIA                                   1977   Jan          11.0\n",
       "3  ALGERIA                                   1978   Jan           9.1\n",
       "4  ALGERIA                                   1979   Jan          13.0"
      ]
     },
     "execution_count": 23,
     "metadata": {},
     "output_type": "execute_result"
    }
   ],
   "source": [
    "#read  temp data file\n",
    "tempDF = pd.read_csv(os.path.join(data_path, temp_dataFile))\n",
    "\n",
    "# Temporary - Remove once final Temp Data file is ready\n",
    "if(tempDF.isnull().values.sum() != 0):\n",
    "    # fill the NA with rowwise means\n",
    "    rowMeans = tempDF[month_name[1:]].mean(axis = 1)\n",
    "    tempDF = tempDF.apply(lambda r: r.fillna(rowMeans[r.index]))\n",
    "\n",
    "# reshape tempDF to have month values in the row\n",
    "temp_flatDF = pd.melt(tempDF, id_vars =['Country','Year'], var_name = 'Month', value_name = \"Monthly_Temp\")   \n",
    "\n",
    "temp_flatDF.head()\n",
    " "
   ]
  },
  {
   "cell_type": "code",
   "execution_count": 24,
   "metadata": {},
   "outputs": [
    {
     "data": {
      "text/html": [
       "<div>\n",
       "<style scoped>\n",
       "    .dataframe tbody tr th:only-of-type {\n",
       "        vertical-align: middle;\n",
       "    }\n",
       "\n",
       "    .dataframe tbody tr th {\n",
       "        vertical-align: top;\n",
       "    }\n",
       "\n",
       "    .dataframe thead th {\n",
       "        text-align: right;\n",
       "    }\n",
       "</style>\n",
       "<table border=\"1\" class=\"dataframe\">\n",
       "  <thead>\n",
       "    <tr style=\"text-align: right;\">\n",
       "      <th></th>\n",
       "      <th>Year</th>\n",
       "      <th>Month</th>\n",
       "      <th>Monthly_Temp</th>\n",
       "    </tr>\n",
       "  </thead>\n",
       "  <tbody>\n",
       "    <tr>\n",
       "      <th>0</th>\n",
       "      <td>1975</td>\n",
       "      <td>Apr</td>\n",
       "      <td>16.607500</td>\n",
       "    </tr>\n",
       "    <tr>\n",
       "      <th>1</th>\n",
       "      <td>1975</td>\n",
       "      <td>Aug</td>\n",
       "      <td>20.945000</td>\n",
       "    </tr>\n",
       "    <tr>\n",
       "      <th>2</th>\n",
       "      <td>1975</td>\n",
       "      <td>Dec</td>\n",
       "      <td>12.039167</td>\n",
       "    </tr>\n",
       "    <tr>\n",
       "      <th>3</th>\n",
       "      <td>1975</td>\n",
       "      <td>Feb</td>\n",
       "      <td>12.323333</td>\n",
       "    </tr>\n",
       "    <tr>\n",
       "      <th>4</th>\n",
       "      <td>1975</td>\n",
       "      <td>Jan</td>\n",
       "      <td>12.086667</td>\n",
       "    </tr>\n",
       "  </tbody>\n",
       "</table>\n",
       "</div>"
      ],
      "text/plain": [
       "   Year Month  Monthly_Temp\n",
       "0  1975   Apr     16.607500\n",
       "1  1975   Aug     20.945000\n",
       "2  1975   Dec     12.039167\n",
       "3  1975   Feb     12.323333\n",
       "4  1975   Jan     12.086667"
      ]
     },
     "execution_count": 24,
     "metadata": {},
     "output_type": "execute_result"
    }
   ],
   "source": [
    "# Group by year and month and aggregate values by mean()\n",
    "\n",
    "temp_GDF_YM = temp_flatDF.groupby(['Year','Month']).agg(np.mean)\n",
    "\n",
    "temp_GDF_YM.reset_index(inplace = True)\n",
    "\n",
    "temp_GDF_YM.head()"
   ]
  },
  {
   "cell_type": "markdown",
   "metadata": {},
   "source": [
    "### Ready CO2 to merge with Temp\n"
   ]
  },
  {
   "cell_type": "code",
   "execution_count": 26,
   "metadata": {},
   "outputs": [
    {
     "data": {
      "text/html": [
       "<div>\n",
       "<style scoped>\n",
       "    .dataframe tbody tr th:only-of-type {\n",
       "        vertical-align: middle;\n",
       "    }\n",
       "\n",
       "    .dataframe tbody tr th {\n",
       "        vertical-align: top;\n",
       "    }\n",
       "\n",
       "    .dataframe thead th {\n",
       "        text-align: right;\n",
       "    }\n",
       "</style>\n",
       "<table border=\"1\" class=\"dataframe\">\n",
       "  <thead>\n",
       "    <tr style=\"text-align: right;\">\n",
       "      <th></th>\n",
       "      <th>Year</th>\n",
       "      <th>Month</th>\n",
       "      <th>Monthly_Co2</th>\n",
       "    </tr>\n",
       "  </thead>\n",
       "  <tbody>\n",
       "    <tr>\n",
       "      <th>0</th>\n",
       "      <td>1975</td>\n",
       "      <td>Jan</td>\n",
       "      <td>332.43</td>\n",
       "    </tr>\n",
       "    <tr>\n",
       "      <th>1</th>\n",
       "      <td>1976</td>\n",
       "      <td>Jan</td>\n",
       "      <td>332.26</td>\n",
       "    </tr>\n",
       "    <tr>\n",
       "      <th>2</th>\n",
       "      <td>1977</td>\n",
       "      <td>Jan</td>\n",
       "      <td>333.94</td>\n",
       "    </tr>\n",
       "    <tr>\n",
       "      <th>3</th>\n",
       "      <td>1978</td>\n",
       "      <td>Jan</td>\n",
       "      <td>335.66</td>\n",
       "    </tr>\n",
       "    <tr>\n",
       "      <th>4</th>\n",
       "      <td>1979</td>\n",
       "      <td>Jan</td>\n",
       "      <td>337.40</td>\n",
       "    </tr>\n",
       "  </tbody>\n",
       "</table>\n",
       "</div>"
      ],
      "text/plain": [
       "   Year Month  Monthly_Co2\n",
       "0  1975   Jan       332.43\n",
       "1  1976   Jan       332.26\n",
       "2  1977   Jan       333.94\n",
       "3  1978   Jan       335.66\n",
       "4  1979   Jan       337.40"
      ]
     },
     "execution_count": 26,
     "metadata": {},
     "output_type": "execute_result"
    }
   ],
   "source": [
    "#read  temp data file\n",
    "co2DF = pd.read_csv(os.path.join(data_path, co2_dataFile))\n",
    "\n",
    "co2DF.rename(columns = {'year' : 'Year'}, inplace = True)\n",
    "\n",
    "# Temporary - Remove once final Temp Data file is ready\n",
    "if(co2DF.isnull().values.sum() != 0):\n",
    "    # fill the NA with rowwise means\n",
    "    rowMeans = co2DF[month_name[1:]].mean(axis = 1)\n",
    "    co2DF = co2DF.apply(lambda r: r.fillna(rowMeans[r.index]))\n",
    "\n",
    "# reshape tempDF to have month values in the row\n",
    "co2_flatDF = pd.melt(co2DF, id_vars =['Year'], var_name = 'Month', value_name = \"Monthly_Co2\")   \n",
    "\n",
    "co2_flatDF.head()"
   ]
  },
  {
   "cell_type": "markdown",
   "metadata": {},
   "source": [
    "### Merge Temp and Co2 at global level"
   ]
  },
  {
   "cell_type": "code",
   "execution_count": 28,
   "metadata": {},
   "outputs": [
    {
     "data": {
      "text/html": [
       "<div>\n",
       "<style scoped>\n",
       "    .dataframe tbody tr th:only-of-type {\n",
       "        vertical-align: middle;\n",
       "    }\n",
       "\n",
       "    .dataframe tbody tr th {\n",
       "        vertical-align: top;\n",
       "    }\n",
       "\n",
       "    .dataframe thead th {\n",
       "        text-align: right;\n",
       "    }\n",
       "</style>\n",
       "<table border=\"1\" class=\"dataframe\">\n",
       "  <thead>\n",
       "    <tr style=\"text-align: right;\">\n",
       "      <th></th>\n",
       "      <th>Year</th>\n",
       "      <th>Month</th>\n",
       "      <th>Monthly_Temp</th>\n",
       "      <th>Monthly_Co2</th>\n",
       "    </tr>\n",
       "  </thead>\n",
       "  <tbody>\n",
       "    <tr>\n",
       "      <th>0</th>\n",
       "      <td>1975</td>\n",
       "      <td>Apr</td>\n",
       "      <td>16.607500</td>\n",
       "      <td>332.08</td>\n",
       "    </tr>\n",
       "    <tr>\n",
       "      <th>1</th>\n",
       "      <td>1975</td>\n",
       "      <td>Aug</td>\n",
       "      <td>20.945000</td>\n",
       "      <td>328.45</td>\n",
       "    </tr>\n",
       "    <tr>\n",
       "      <th>2</th>\n",
       "      <td>1975</td>\n",
       "      <td>Dec</td>\n",
       "      <td>12.039167</td>\n",
       "      <td>332.29</td>\n",
       "    </tr>\n",
       "    <tr>\n",
       "      <th>3</th>\n",
       "      <td>1975</td>\n",
       "      <td>Feb</td>\n",
       "      <td>12.323333</td>\n",
       "      <td>332.38</td>\n",
       "    </tr>\n",
       "    <tr>\n",
       "      <th>4</th>\n",
       "      <td>1975</td>\n",
       "      <td>Jan</td>\n",
       "      <td>12.086667</td>\n",
       "      <td>332.43</td>\n",
       "    </tr>\n",
       "  </tbody>\n",
       "</table>\n",
       "</div>"
      ],
      "text/plain": [
       "   Year Month  Monthly_Temp  Monthly_Co2\n",
       "0  1975   Apr     16.607500       332.08\n",
       "1  1975   Aug     20.945000       328.45\n",
       "2  1975   Dec     12.039167       332.29\n",
       "3  1975   Feb     12.323333       332.38\n",
       "4  1975   Jan     12.086667       332.43"
      ]
     },
     "execution_count": 28,
     "metadata": {},
     "output_type": "execute_result"
    }
   ],
   "source": [
    "temp_co2 = pd.merge(temp_GDF_YM, co2_flatDF, left_on = ['Year','Month'], right_on = ['Year','Month'], \\\n",
    "                    how = 'inner', suffixes = ['_temp','_co2'])\n",
    "\n",
    "temp_co2.head()"
   ]
  },
  {
   "cell_type": "code",
   "execution_count": 36,
   "metadata": {},
   "outputs": [
    {
     "data": {
      "text/html": [
       "<div>\n",
       "<style scoped>\n",
       "    .dataframe tbody tr th:only-of-type {\n",
       "        vertical-align: middle;\n",
       "    }\n",
       "\n",
       "    .dataframe tbody tr th {\n",
       "        vertical-align: top;\n",
       "    }\n",
       "\n",
       "    .dataframe thead th {\n",
       "        text-align: right;\n",
       "    }\n",
       "</style>\n",
       "<table border=\"1\" class=\"dataframe\">\n",
       "  <thead>\n",
       "    <tr style=\"text-align: right;\">\n",
       "      <th></th>\n",
       "      <th>Year</th>\n",
       "      <th>Month</th>\n",
       "      <th>Monthly_Temp</th>\n",
       "      <th>Monthly_Co2</th>\n",
       "      <th>Month_Num</th>\n",
       "      <th>Date</th>\n",
       "    </tr>\n",
       "  </thead>\n",
       "  <tbody>\n",
       "    <tr>\n",
       "      <th>0</th>\n",
       "      <td>1975</td>\n",
       "      <td>Apr</td>\n",
       "      <td>16.607500</td>\n",
       "      <td>332.08</td>\n",
       "      <td>4</td>\n",
       "      <td>1975-04-01</td>\n",
       "    </tr>\n",
       "    <tr>\n",
       "      <th>1</th>\n",
       "      <td>1975</td>\n",
       "      <td>Aug</td>\n",
       "      <td>20.945000</td>\n",
       "      <td>328.45</td>\n",
       "      <td>8</td>\n",
       "      <td>1975-08-01</td>\n",
       "    </tr>\n",
       "    <tr>\n",
       "      <th>2</th>\n",
       "      <td>1975</td>\n",
       "      <td>Dec</td>\n",
       "      <td>12.039167</td>\n",
       "      <td>332.29</td>\n",
       "      <td>12</td>\n",
       "      <td>1975-12-01</td>\n",
       "    </tr>\n",
       "    <tr>\n",
       "      <th>3</th>\n",
       "      <td>1975</td>\n",
       "      <td>Feb</td>\n",
       "      <td>12.323333</td>\n",
       "      <td>332.38</td>\n",
       "      <td>2</td>\n",
       "      <td>1975-02-01</td>\n",
       "    </tr>\n",
       "    <tr>\n",
       "      <th>4</th>\n",
       "      <td>1975</td>\n",
       "      <td>Jan</td>\n",
       "      <td>12.086667</td>\n",
       "      <td>332.43</td>\n",
       "      <td>1</td>\n",
       "      <td>1975-01-01</td>\n",
       "    </tr>\n",
       "  </tbody>\n",
       "</table>\n",
       "</div>"
      ],
      "text/plain": [
       "   Year Month  Monthly_Temp  Monthly_Co2  Month_Num       Date\n",
       "0  1975   Apr     16.607500       332.08          4 1975-04-01\n",
       "1  1975   Aug     20.945000       328.45          8 1975-08-01\n",
       "2  1975   Dec     12.039167       332.29         12 1975-12-01\n",
       "3  1975   Feb     12.323333       332.38          2 1975-02-01\n",
       "4  1975   Jan     12.086667       332.43          1 1975-01-01"
      ]
     },
     "execution_count": 36,
     "metadata": {},
     "output_type": "execute_result"
    }
   ],
   "source": [
    "#Add colums to assist in further analysis\n",
    " \n",
    "#Convert month names to month number\n",
    "temp_co2['Month_Num'] = temp_co2['Month'].apply(lambda r: month_num[r] )\n",
    "\n",
    "# Add Date column, example 01-Jan-1975\n",
    "temp_co2['Date'] = temp_co2['Year'].astype(str)+'-'+temp_co2['Month_Num'].astype(str)+'-01'\n",
    "temp_co2['Date'] = temp_co2['Date'].apply(lambda r: datetime.strptime(r , '%Y-%m-%d'))\n",
    "\n",
    "#Sort Data Frame by Year and MOnth\n",
    "temp_co2.sort_values(by = ['Year','Month_Num'])\n",
    "\n",
    "temp_co2.head()"
   ]
  },
  {
   "cell_type": "markdown",
   "metadata": {},
   "source": [
    "## START ANALYSIS"
   ]
  },
  {
   "cell_type": "markdown",
   "metadata": {},
   "source": [
    "### Use df.corr() to understand correlation between Temp and CO2"
   ]
  },
  {
   "cell_type": "code",
   "execution_count": 47,
   "metadata": {},
   "outputs": [
    {
     "data": {
      "text/html": [
       "<div>\n",
       "<style scoped>\n",
       "    .dataframe tbody tr th:only-of-type {\n",
       "        vertical-align: middle;\n",
       "    }\n",
       "\n",
       "    .dataframe tbody tr th {\n",
       "        vertical-align: top;\n",
       "    }\n",
       "\n",
       "    .dataframe thead th {\n",
       "        text-align: right;\n",
       "    }\n",
       "</style>\n",
       "<table border=\"1\" class=\"dataframe\">\n",
       "  <thead>\n",
       "    <tr style=\"text-align: right;\">\n",
       "      <th></th>\n",
       "      <th>Monthly_Temp</th>\n",
       "      <th>Monthly_Co2</th>\n",
       "    </tr>\n",
       "    <tr>\n",
       "      <th>Year</th>\n",
       "      <th></th>\n",
       "      <th></th>\n",
       "    </tr>\n",
       "  </thead>\n",
       "  <tbody>\n",
       "    <tr>\n",
       "      <th>1975</th>\n",
       "      <td>16.579987</td>\n",
       "      <td>331.180000</td>\n",
       "    </tr>\n",
       "    <tr>\n",
       "      <th>1976</th>\n",
       "      <td>16.183403</td>\n",
       "      <td>331.879167</td>\n",
       "    </tr>\n",
       "    <tr>\n",
       "      <th>1977</th>\n",
       "      <td>16.635145</td>\n",
       "      <td>333.806667</td>\n",
       "    </tr>\n",
       "    <tr>\n",
       "      <th>1978</th>\n",
       "      <td>16.402431</td>\n",
       "      <td>335.386667</td>\n",
       "    </tr>\n",
       "    <tr>\n",
       "      <th>1979</th>\n",
       "      <td>16.601778</td>\n",
       "      <td>337.192500</td>\n",
       "    </tr>\n",
       "  </tbody>\n",
       "</table>\n",
       "</div>"
      ],
      "text/plain": [
       "      Monthly_Temp  Monthly_Co2\n",
       "Year                           \n",
       "1975     16.579987   331.180000\n",
       "1976     16.183403   331.879167\n",
       "1977     16.635145   333.806667\n",
       "1978     16.402431   335.386667\n",
       "1979     16.601778   337.192500"
      ]
     },
     "execution_count": 47,
     "metadata": {},
     "output_type": "execute_result"
    }
   ],
   "source": [
    "temp_co2_GDF = temp_co2[['Year','Monthly_Temp','Monthly_Co2']].groupby('Year').agg(np.mean)\n",
    "temp_co2_GDF.head()"
   ]
  },
  {
   "cell_type": "code",
   "execution_count": 48,
   "metadata": {},
   "outputs": [
    {
     "data": {
      "text/plain": [
       "array([[1.        , 0.91877875],\n",
       "       [0.91877875, 1.        ]])"
      ]
     },
     "execution_count": 48,
     "metadata": {},
     "output_type": "execute_result"
    }
   ],
   "source": [
    "x_axis = temp_co2_GDF['Monthly_Temp']\n",
    "y_axis = temp_co2_GDF['Monthly_Co2']\n",
    "np.corrcoef(x_axis, y_axis)"
   ]
  },
  {
   "cell_type": "code",
   "execution_count": 49,
   "metadata": {},
   "outputs": [
    {
     "data": {
      "text/plain": [
       "<matplotlib.collections.PathCollection at 0x1cdda4d8dd8>"
      ]
     },
     "execution_count": 49,
     "metadata": {},
     "output_type": "execute_result"
    },
    {
     "data": {
      "image/png": "[encoded data removed]",
      "text/plain": [
       "<Figure size 1080x792 with 1 Axes>"
      ]
     },
     "metadata": {},
     "output_type": "display_data"
    }
   ],
   "source": [
    "fig, ax = plt.subplots(figsize = (15,11))\n",
    "\n",
    "ax.scatter('Monthly_Co2','Monthly_Temp', data = temp_co2_GDF )"
   ]
  },
  {
   "cell_type": "code",
   "execution_count": null,
   "metadata": {},
   "outputs": [],
   "source": []
  }
 ],
 "metadata": {
  "kernelspec": {
   "display_name": "Python 3",
   "language": "python",
   "name": "python3"
  },
  "language_info": {
   "codemirror_mode": {
    "name": "ipython",
    "version": 3
   },
   "file_extension": ".py",
   "mimetype": "text/x-python",
   "name": "python",
   "nbconvert_exporter": "python",
   "pygments_lexer": "ipython3",
   "version": "3.7.0"
  }
 },
 "nbformat": 4,
 "nbformat_minor": 2
}
